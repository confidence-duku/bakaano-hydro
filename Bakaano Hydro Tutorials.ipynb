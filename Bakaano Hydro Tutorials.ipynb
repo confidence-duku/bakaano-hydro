{
 "cells": [
  {
   "cell_type": "markdown",
   "metadata": {},
   "source": [
    "#####   Getting and preprocessing input data"
   ]
  },
  {
   "cell_type": "code",
   "execution_count": 1,
   "metadata": {},
   "outputs": [],
   "source": [
    "# Set working directory and path to shapefile of study area\n",
    "\n",
    "working_dir = ''  #provide working folder directory\n",
    "study_area = ''  #provide path to shapefile of study_area\n",
    "train_start_date = ''  # provide start date in format e.g. '2016-12-31'\n",
    "train_end_date = ''  #provide end date in format e.g. '2016-12-31'\n",
    "val_start_date = ''\n",
    "val_end_date = ''"
   ]
  },
  {
   "cell_type": "code",
   "execution_count": 2,
   "metadata": {},
   "outputs": [],
   "source": [
    "from bakaano.tree_cover import VCF\n",
    "vf = VCF(working_dir, study_area)\n",
    "vf.download_vcf()"
   ]
  },
  {
   "cell_type": "code",
   "execution_count": null,
   "metadata": {},
   "outputs": [],
   "source": [
    "# Get elevation data\n",
    "\n",
    "from bakaano.dem import DEM\n",
    "dd = DEM(working_dir, study_area, local_data=False, local_data_path=None)\n",
    "dd.get_dem_data()\n",
    "dd.plot_dem()"
   ]
  },
  {
   "cell_type": "code",
   "execution_count": null,
   "metadata": {},
   "outputs": [],
   "source": [
    "# Get soil data\n",
    "\n",
    "from bakaano.soil import Soil\n",
    "sgd = Soil(working_dir, study_area)\n",
    "sgd.get_soil_data()\n",
    "sgd.plot_soil()"
   ]
  },
  {
   "cell_type": "code",
   "execution_count": null,
   "metadata": {},
   "outputs": [],
   "source": [
    "# Get meteo data\n",
    "\n",
    "from bakaano.meteo import Meteo\n",
    "cd = Meteo(working_dir, study_area, local_data=False, local_prep_path=None, local_tasmax_path=None, \n",
    "           local_tasmin_path=None, local_tmean_path=None)\n",
    "prep, tasmax, tasmin, tmean = cd.get_meteo_data()"
   ]
  },
  {
   "cell_type": "markdown",
   "metadata": {},
   "source": [
    "#####   Training Bakaano-Hydro model "
   ]
  },
  {
   "cell_type": "code",
   "execution_count": null,
   "metadata": {},
   "outputs": [],
   "source": [
    "#TRAINING THE NEURAL NETWORK MODEL\n",
    "# Initialize  instance of Bakaano-Hydro model\n",
    "\n",
    "from bakaano.main import BakaanoHydro\n",
    "bk = BakaanoHydro(\n",
    "    working_dir,\n",
    "    study_area,\n",
    "    train_start_date,\n",
    "    train_end_date\n",
    "    )"
   ]
  },
  {
   "cell_type": "code",
   "execution_count": null,
   "metadata": {},
   "outputs": [],
   "source": [
    "# compute surface runoff and route it to river network\n",
    "\n",
    "bk.compute_runoff_route_flow(prep, tasmax, tasmin, tmean)\n"
   ]
  },
  {
   "cell_type": "code",
   "execution_count": null,
   "metadata": {},
   "outputs": [],
   "source": [
    "# Train Bakaano-Hydro for streamflow prediction \n",
    "\n",
    "grdc_netcdf = ''   #provide path to netcdf format of observed streamflow obtained from GRDC\n",
    "bk.train_streamflow_model(grdc_netcdf)"
   ]
  },
  {
   "cell_type": "markdown",
   "metadata": {},
   "source": [
    "#####   Evaluating Bakaano-Hydro model performance"
   ]
  },
  {
   "cell_type": "code",
   "execution_count": null,
   "metadata": {},
   "outputs": [],
   "source": [
    "#EVALUATING THE NEURAL NETWORK MODEL\n",
    "from bakaano.main import BakaanoAI\n",
    "bk = BakaanoAI(\n",
    "    working_dir,\n",
    "    study_area,\n",
    "    val_start_date,\n",
    "    val_end_date\n",
    ")\n"
   ]
  },
  {
   "cell_type": "code",
   "execution_count": null,
   "metadata": {},
   "outputs": [],
   "source": [
    "# compute surface runoff and route it to river network\n",
    "\n",
    "bk.compute_runoff_route_flow(prep, tasmax, tasmin, tmean)"
   ]
  },
  {
   "cell_type": "code",
   "execution_count": null,
   "metadata": {},
   "outputs": [],
   "source": [
    "# Train deepSTRMM neural network model for streamflow prediction\n",
    "\n",
    "model_path = ''  #path to trained model. Normally can be found in working_dir/models/\n",
    "bk.evaluate_streamflow_model(model_path, grdc_netcdf)"
   ]
  },
  {
   "cell_type": "markdown",
   "metadata": {},
   "source": []
  }
 ],
 "metadata": {
  "kernelspec": {
   "display_name": "nbs-dashboard",
   "language": "python",
   "name": "python3"
  },
  "language_info": {
   "codemirror_mode": {
    "name": "ipython",
    "version": 3
   },
   "file_extension": ".py",
   "mimetype": "text/x-python",
   "name": "python",
   "nbconvert_exporter": "python",
   "pygments_lexer": "ipython3",
   "version": "3.10.4"
  }
 },
 "nbformat": 4,
 "nbformat_minor": 2
}
