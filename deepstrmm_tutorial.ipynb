{
 "cells": [
  {
   "cell_type": "markdown",
   "metadata": {},
   "source": [
    "### DeepSTRMM tutorial\n",
    "\n",
    "\n",
    "DeepSTRMM is designed as a complete solution from automated data download and preprocessing source data to surface runoff computation, river routing, streamflow training with deep neural networks, post-processing outputs, and evaluating model performance.\n"
   ]
  },
  {
   "cell_type": "markdown",
   "metadata": {},
   "source": [
    "##### 1. Setting global arguments and initialize DeepSTRMM instance\n",
    "\n",
    "The 'working_dir' is the home of all DeepSTRMM analysis. Relevant folders with intuitive names will be automatically created and will contain the appropriate data.\n"
   ]
  },
  {
   "cell_type": "code",
   "execution_count": 1,
   "metadata": {},
   "outputs": [
    {
     "name": "stderr",
     "output_type": "stream",
     "text": [
      "2024-11-15 18:28:54.536352: E external/local_xla/xla/stream_executor/cuda/cuda_fft.cc:485] Unable to register cuFFT factory: Attempting to register factory for plugin cuFFT when one has already been registered\n",
      "2024-11-15 18:28:54.591405: E external/local_xla/xla/stream_executor/cuda/cuda_dnn.cc:8454] Unable to register cuDNN factory: Attempting to register factory for plugin cuDNN when one has already been registered\n",
      "2024-11-15 18:28:54.607897: E external/local_xla/xla/stream_executor/cuda/cuda_blas.cc:1452] Unable to register cuBLAS factory: Attempting to register factory for plugin cuBLAS when one has already been registered\n"
     ]
    }
   ],
   "source": [
    "# Set working directory and path to shapefile of study area\n",
    "\n",
    "working_dir = 'testing'\n",
    "study_area = 'hydro/test/volta.shp'\n",
    "\n",
    "from deepstrmm.main import DeepSTRMM\n",
    "ds = DeepSTRMM(\n",
    "    working_dir,\n",
    "    study_area,\n",
    "    '1981-01-01',\n",
    "    '2016-12-31'\n",
    ")"
   ]
  },
  {
   "cell_type": "markdown",
   "metadata": {},
   "source": [
    "##### 2. Downloading and preprocessing input data\n",
    "\n",
    "Users have the option of providing their own data or allowing DeepSTRMM to automatically download and preprocess reliable relevant input data. If a user opts to provide their own data then all data should be in geographic coordinate system WGS84 or EPSG 4326. users do not need to clip or regrid the data. DeepSTRMM is designed to use the spatial resolution of the DEM and all input data will be regridded to match the DEM. "
   ]
  },
  {
   "cell_type": "code",
   "execution_count": null,
   "metadata": {},
   "outputs": [],
   "source": [
    "# Elevation\n",
    "\n",
    "from deepstrmm.dem import DEM\n",
    "dd = DEM(working_dir, study_area, local_data=False, local_data_path=None)\n",
    "dd.get_dem_data()"
   ]
  },
  {
   "cell_type": "code",
   "execution_count": null,
   "metadata": {},
   "outputs": [],
   "source": [
    "# Land cover\n",
    "\n",
    "from deepstrmm.land_cover import LandCover\n",
    "ldc = LandCover(working_dir, study_area, local_data=False, local_data_path=None)\n",
    "ldc.get_landcover_data()"
   ]
  },
  {
   "cell_type": "code",
   "execution_count": null,
   "metadata": {},
   "outputs": [],
   "source": [
    "# Soil\n",
    "\n",
    "from deepstrmm.soil import Soil\n",
    "sgd = Soil(working_dir, study_area)\n",
    "sgd.get_soil_data()"
   ]
  },
  {
   "cell_type": "code",
   "execution_count": null,
   "metadata": {},
   "outputs": [
    {
     "name": "stdout",
     "output_type": "stream",
     "text": [
      "job 3ca38e320cd3b9c1d9743d331c5ff9ed728862d6 started {'created_files': 149, 'total_files': 456}\n",
      "job 13cb9fb069cac1fc1aea6bce8c14b9968ba72275 started {'created_files': 163, 'total_files': 456}\n"
     ]
    }
   ],
   "source": [
    "# Meteo data\n",
    "\n",
    "from deepstrmm.meteo import Meteo\n",
    "cd = Meteo(working_dir, study_area, local_data=False, local_data_path=None)\n",
    "cd.get_meteo_data()"
   ]
  },
  {
   "cell_type": "markdown",
   "metadata": {},
   "source": [
    "##### 3. Surface runoff and river flow routing"
   ]
  },
  {
   "cell_type": "code",
   "execution_count": null,
   "metadata": {},
   "outputs": [],
   "source": [
    "ds.compute_runoff_route_flow()"
   ]
  },
  {
   "cell_type": "markdown",
   "metadata": {},
   "source": [
    "##### 4. Training DeepSTRMM\n",
    "\n"
   ]
  },
  {
   "cell_type": "code",
   "execution_count": null,
   "metadata": {},
   "outputs": [],
   "source": [
    "ds.train_streamflow_model()"
   ]
  },
  {
   "cell_type": "markdown",
   "metadata": {},
   "source": [
    "##### 5. Evaluating DeepSTRMM predictive accuracy"
   ]
  }
 ],
 "metadata": {
  "kernelspec": {
   "display_name": "nbs-dashboard",
   "language": "python",
   "name": "python3"
  },
  "language_info": {
   "codemirror_mode": {
    "name": "ipython",
    "version": 3
   },
   "file_extension": ".py",
   "mimetype": "text/x-python",
   "name": "python",
   "nbconvert_exporter": "python",
   "pygments_lexer": "ipython3",
   "version": "3.10.4"
  }
 },
 "nbformat": 4,
 "nbformat_minor": 2
}
