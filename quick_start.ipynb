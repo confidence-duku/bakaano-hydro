{
 "cells": [
  {
   "cell_type": "markdown",
   "metadata": {},
   "source": [
    "#####   1. Getting and preprocessing input data\n",
    "\n",
    "If you have previously executed this step and downloaded all input data you can skip this step and proceed directly to step 2. However, if you are not sure, run step 1 and the model will either confirm that a specific data has aready been downloaded and subsequently viualize it or it will proceeed to download the data if it is not available or prior download was incomplete."
   ]
  },
  {
   "cell_type": "code",
   "execution_count": null,
   "metadata": {},
   "outputs": [],
   "source": [
    "# Set working directory and path to shapefile of study area. This is repeated in every step to make each step independent\n",
    "\n",
    "working_dir = 'volta'  #provide full working directory\n",
    "study_area = 'bakaano/test/volta.shp'  #provide full path to shapefile of study_area\n",
    "start_date = '1981-01-01'  # provide start date in format e.g. 'YYYY-MM-DD'.\n",
    "end_date = '2016-12-31'  #provide end date in format e.g. 'YYYY-MM-DD'\n",
    "\n",
    "# Note that the start and end dates should cover model training and validation periods. Specific training and validation start and end\n",
    "# should be provided in step 3 and 4."
   ]
  },
  {
   "cell_type": "code",
   "execution_count": null,
   "metadata": {},
   "outputs": [],
   "source": [
    "\n",
    "# download and preprocess MODIS vegetation continuous fields from Google Earth Engine Data catalog\n",
    "\n",
    "from bakaano.tree_cover import TreeCover\n",
    "vf = TreeCover(working_dir, study_area, start_date, end_date)\n",
    "vf.download_tree_cover()\n",
    "vf.preprocess_tree_cover()\n",
    "vf.plot_tree_cover(variable='tree_cover') # options for plot are 'tree_cover' and 'herb_cover'"
   ]
  },
  {
   "cell_type": "code",
   "execution_count": null,
   "metadata": {},
   "outputs": [],
   "source": [
    "# download and preprocess MODIS NDVI data from Google Earth Engine Data catalog\n",
    "\n",
    "from bakaano.ndvi import NDVI\n",
    "nd = NDVI(working_dir, study_area, start_date, end_date)\n",
    "nd.download_ndvi()\n",
    "nd.preprocess_ndvi()\n",
    "nd.plot_ndvi(interval_num=10)  # because NDVI is in 16-day interval the 'interval_num' represents a 16-day period. \n",
    "                               #Hence 0 is the first 16 day period"
   ]
  },
  {
   "cell_type": "code",
   "execution_count": null,
   "metadata": {},
   "outputs": [],
   "source": [
    "# Get elevation data\n",
    "\n",
    "from bakaano.dem import DEM\n",
    "dd = DEM(working_dir, study_area, local_data=False, local_data_path=None)\n",
    "dd.get_dem_data()\n",
    "dd.plot_dem()"
   ]
  },
  {
   "cell_type": "code",
   "execution_count": null,
   "metadata": {},
   "outputs": [],
   "source": [
    "# Get soil data\n",
    "\n",
    "from bakaano.soil import Soil\n",
    "sgd = Soil(working_dir, study_area)\n",
    "sgd.get_soil_data()\n",
    "sgd.plot_soil(variable='wilting_point')"
   ]
  },
  {
   "cell_type": "code",
   "execution_count": null,
   "metadata": {},
   "outputs": [],
   "source": [
    "# Get meteo data\n",
    "\n",
    "from bakaano.meteo import Meteo\n",
    "cd = Meteo(working_dir, study_area, start_date=start_date, end_date=end_date, local_data=False, data_source='CHELSA', local_prep_path=None, local_tasmax_path=None, \n",
    "           local_tasmin_path=None, local_tmean_path=None)\n",
    "#prep, tasmax, tasmin, tmean = cd.get_meteo_data()\n",
    "cd.plot_meteo(variable='tmean', date='2001-12-01')"
   ]
  },
  {
   "cell_type": "markdown",
   "metadata": {},
   "source": [
    "#####   2. Computing runoff and routing to river network"
   ]
  },
  {
   "cell_type": "code",
   "execution_count": null,
   "metadata": {},
   "outputs": [],
   "source": [
    "# Set working directory and path to shapefile of study area. This is repeated in every step to make each step independent\n",
    "\n",
    "working_dir = 'volta'  #provide full working directory\n",
    "study_area = 'bakaano/test/volta.shp'  #provide full path to shapefile of study_area\n",
    "start_date = '1981-01-01'  # provide start date in format e.g. 'YYYY-MM-DD'.\n",
    "end_date = '2016-12-31'  #provide end date in format e.g. 'YYYY-MM-DD'\n",
    "\n",
    "# Note that the start and end dates should cover model training and validation periods. Specific training and validation start and end\n",
    "# should be provided in step 3 and 4."
   ]
  },
  {
   "cell_type": "code",
   "execution_count": null,
   "metadata": {},
   "outputs": [],
   "source": [
    "climate_data_source = 'CHELSA'\n",
    "\n",
    "from bakaano.veget import VegET\n",
    "vg = VegET(working_dir, study_area, start_date, end_date, climate_data_source=climate_data_source)\n",
    "vg.compute_veget_runoff_route_flow()"
   ]
  },
  {
   "cell_type": "markdown",
   "metadata": {},
   "source": [
    "#####   3. Training Bakaano-Hydro model "
   ]
  },
  {
   "cell_type": "code",
   "execution_count": null,
   "metadata": {},
   "outputs": [],
   "source": [
    "# Set working directory and path to shapefile of study area. This is repeated in every step to make each step independent\n",
    "\n",
    "working_dir = 'volta'  #provide full working directory\n",
    "study_area = 'bakaano/test/volta.shp'  #provide full path to shapefile of study_area\n",
    "start_date = '1981-01-01'  # provide start date in format e.g. 'YYYY-MM-DD'.\n",
    "end_date = '2016-12-31'  #provide end date in format e.g. 'YYYY-MM-DD'\n",
    "\n",
    "# Note that the start and end dates should cover model training and validation periods. Specific training and validation start and end\n",
    "# should be provided in step 3 and 4."
   ]
  },
  {
   "cell_type": "code",
   "execution_count": null,
   "metadata": {},
   "outputs": [],
   "source": [
    "#TRAINING THE NEURAL NETWORK MODEL\n",
    "# Initialize  instance of Bakaano-Hydro model\n",
    "\n",
    "train_start_date = '1989-01-01'\n",
    "train_end_date = '2016-12-31'\n",
    "grdc_netcdf = '/lustre/backup/WUR/ESG/duku002/NBAT/hydro/input_data/GRDC-Daily-africa-south-america.nc'   #provide path to netcdf format of observed streamflow obtained from GRDC\n",
    "climate_data_source = 'ERA5'\n",
    "\n",
    "from bakaano.runner import BakaanoHydro\n",
    "bk = BakaanoHydro(  \n",
    "    working_dir,\n",
    "    study_area,\n",
    "    start_date,\n",
    "    end_date,\n",
    "    climate_data_source=climate_data_source\n",
    ")\n",
    "\n",
    "bk.train_streamflow_model(train_start=train_start_date, train_end=train_end_date, grdc_netcdf=grdc_netcdf,  \n",
    "                          loss_fn='laplacian_nll', num_input_branch=2, lookback=365, batch_size=256, num_epochs=100)"
   ]
  },
  {
   "cell_type": "markdown",
   "metadata": {},
   "source": [
    "#####   4. Evaluating Bakaano-Hydro model performance"
   ]
  },
  {
   "cell_type": "code",
   "execution_count": null,
   "metadata": {},
   "outputs": [],
   "source": [
    "# Set working directory and path to shapefile of study area. This is repeated in every step to make each step independent\n",
    "\n",
    "working_dir = 'volta'  #provide full working directory\n",
    "study_area = 'bakaano/test/volta.shp'  #provide full path to shapefile of study_area\n",
    "start_date = '1981-01-01'  # provide start date in format e.g. 'YYYY-MM-DD'.\n",
    "end_date = '2016-12-31'  #provide end date in format e.g. 'YYYY-MM-DD'\n",
    "climate_data_source = 'CHELSA'\n",
    "\n",
    "# Note that the start and end dates should cover model training and validation periods. Specific training and validation start and end\n",
    "# should be provided in step 3 and 4."
   ]
  },
  {
   "cell_type": "code",
   "execution_count": null,
   "metadata": {},
   "outputs": [],
   "source": [
    "#EVALUATING THE NEURAL NETWORK MODEL\n",
    "model_path = f'{working_dir}/models/bakaano_model_laplacian_nll_2_branches.keras'\n",
    "grdc_netcdf = '/lustre/backup/WUR/ESG/duku002/NBAT/hydro/input_data/GRDC-Daily-africa-south-america.nc'\n",
    "val_start_date = '1981-01-01'\n",
    "val_end_date = '1988-12-31'\n",
    "\n",
    "from bakaano.runner import BakaanoHydro\n",
    "bk = BakaanoHydro(\n",
    "    working_dir,\n",
    "    study_area,\n",
    "    start_date,\n",
    "    end_date,\n",
    "    climate_data_source=climate_data_source\n",
    ")\n",
    "\n",
    "bk.evaluate_streamflow_model_interactively(model_path=model_path, val_start=val_start_date, val_end=val_end_date, grdc_netcdf=grdc_netcdf, \n",
    "                                           loss_fn='laplacian_nll', num_input_branch=2, lookback=365)"
   ]
  },
  {
   "cell_type": "markdown",
   "metadata": {},
   "source": [
    "#####   5. Simulating streamflow series with Bakaano-Hydro"
   ]
  },
  {
   "cell_type": "code",
   "execution_count": null,
   "metadata": {},
   "outputs": [],
   "source": [
    "# Set working directory and path to shapefile of study area. This is repeated in every step to make each step independent\n",
    "\n",
    "working_dir = 'volta'  #provide full working directory\n",
    "study_area = 'bakaano/test/volta.shp'  #provide full path to shapefile of study_area\n",
    "start_date = '1981-01-01'  # provide start date in format e.g. 'YYYY-MM-DD'.\n",
    "end_date = '2016-12-31'  #provide end date in format e.g. 'YYYY-MM-DD'\n",
    "climate_data_source = 'CHELSA'\n",
    "\n",
    "# Note that the start and end dates should cover model training and validation periods. Specific training and validation start and end\n",
    "# should be provided in step 3 and 4."
   ]
  },
  {
   "cell_type": "code",
   "execution_count": null,
   "metadata": {},
   "outputs": [],
   "source": [
    "model_path = f'{working_dir}/models/bakaano_model_laplacian_nll_2_branches.keras'\n",
    "latlist = []\n",
    "lonlist =[]\n",
    "sim_start = '1981-01-01'\n",
    "sim_end = '2016-12-31'\n",
    "\n",
    "from bakaano.runner import BakaanoHydro\n",
    "bk = BakaanoHydro(\n",
    "    working_dir,\n",
    "    study_area,\n",
    "    start_date,\n",
    "    end_date,\n",
    "    climate_data_source=climate_data_source\n",
    ")\n",
    "\n",
    "\n",
    "bk.simulate_streamflow(model_path='', sim_start=sim_start, sim_end=sim_end, latlist=latlist, lonlist=lonlist,\n",
    "                       loss_fn='laplacian_nll', num_input_branch=2, lookback=365)"
   ]
  },
  {
   "cell_type": "markdown",
   "metadata": {},
   "source": []
  }
 ],
 "metadata": {
  "kernelspec": {
   "display_name": "nbs-dashboard",
   "language": "python",
   "name": "python3"
  },
  "language_info": {
   "codemirror_mode": {
    "name": "ipython",
    "version": 3
   },
   "file_extension": ".py",
   "mimetype": "text/x-python",
   "name": "python",
   "nbconvert_exporter": "python",
   "pygments_lexer": "ipython3",
   "version": "3.10.4"
  }
 },
 "nbformat": 4,
 "nbformat_minor": 2
}
