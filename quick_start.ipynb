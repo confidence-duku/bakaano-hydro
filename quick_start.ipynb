{
 "cells": [
  {
   "cell_type": "markdown",
   "metadata": {},
   "source": [
    "#####   Getting and preprocessing input data"
   ]
  },
  {
   "cell_type": "code",
   "execution_count": null,
   "metadata": {},
   "outputs": [],
   "source": [
    "# Set working directory and path to shapefile of study area\n",
    "\n",
    "working_dir = 'volta'  #provide working folder directory\n",
    "study_area = 'bakaano/test/volta.shp'  #provide path to shapefile of study_area\n",
    "start_date = '1981-01-01'  # provide start date in format e.g. '2016-12-31'\n",
    "end_date = '1990-12-31'  #provide end date in format e.g. '2016-12-31'"
   ]
  },
  {
   "cell_type": "code",
   "execution_count": null,
   "metadata": {},
   "outputs": [],
   "source": [
    "from bakaano.tree_cover import TreeCover\n",
    "vf = TreeCover(working_dir, study_area)\n",
    "vf.download_tree_cover()\n",
    "vf.preprocess_tree_cover()\n",
    "vf.plot_tree_cover()"
   ]
  },
  {
   "cell_type": "code",
   "execution_count": null,
   "metadata": {},
   "outputs": [],
   "source": [
    "from bakaano.ndvi import NDVI\n",
    "nd = NDVI(working_dir, study_area)\n",
    "nd.download_ndvi()\n",
    "nd.preprocess_ndvi()\n",
    "nd.plot_ndvi()"
   ]
  },
  {
   "cell_type": "code",
   "execution_count": null,
   "metadata": {},
   "outputs": [],
   "source": [
    "# Get elevation data\n",
    "\n",
    "from bakaano.dem import DEM\n",
    "dd = DEM(working_dir, study_area, local_data=False, local_data_path=None)\n",
    "dd.get_dem_data()\n",
    "dd.plot_dem()"
   ]
  },
  {
   "cell_type": "code",
   "execution_count": null,
   "metadata": {},
   "outputs": [],
   "source": [
    "# Get soil data\n",
    "\n",
    "from bakaano.soil import Soil\n",
    "sgd = Soil(working_dir, study_area)\n",
    "sgd.get_soil_data()\n",
    "sgd.plot_soil(vmax=50)"
   ]
  },
  {
   "cell_type": "code",
   "execution_count": null,
   "metadata": {},
   "outputs": [],
   "source": [
    "# Get meteo data\n",
    "\n",
    "from bakaano.meteo import Meteo\n",
    "cd = Meteo(working_dir, study_area, start_date=start_date, end_date=end_date, local_data=False, data_source='CHELSA', local_prep_path=None, local_tasmax_path=None, \n",
    "           local_tasmin_path=None, local_tmean_path=None)\n",
    "prep, tasmax, tasmin, tmean = cd.get_meteo_data()"
   ]
  },
  {
   "cell_type": "markdown",
   "metadata": {},
   "source": [
    "#####   Training Bakaano-Hydro model "
   ]
  },
  {
   "cell_type": "code",
   "execution_count": null,
   "metadata": {},
   "outputs": [],
   "source": [
    "#TRAINING THE NEURAL NETWORK MODEL\n",
    "# Initialize  instance of Bakaano-Hydro model\n",
    "\n",
    "train_start_date = ''\n",
    "train_end_date = ''\n",
    "grdc_netcdf = 'volta/GRDC-Daily-africa-south-america.nc'   #provide path to netcdf format of observed streamflow obtained from GRDC\n",
    "\n",
    "from bakaano.runner import BakaanoHydro\n",
    "bk = BakaanoHydro(  \n",
    "    working_dir,\n",
    "    study_area,\n",
    "    train_start_date,\n",
    "    train_end_date,\n",
    "    climate_data_source='CHELSA'\n",
    ")\n",
    "\n",
    "bk.train_streamflow_model(grdc_netcdf=grdc_netcdf, prep_nc=prep, tasmax_nc=tasmax, tasmin_nc=tasmin, tmean_nc=tmean, \n",
    "                          loss_fn='mean_squared_logarithmic_error', num_input_branch=3, lookback=365, batch_size=256, num_epochs=100)"
   ]
  },
  {
   "cell_type": "markdown",
   "metadata": {},
   "source": [
    "#####   Evaluating Bakaano-Hydro model performance"
   ]
  },
  {
   "cell_type": "code",
   "execution_count": null,
   "metadata": {},
   "outputs": [],
   "source": [
    "#EVALUATING THE NEURAL NETWORK MODEL\n",
    "model_path = f'{working_dir}/models/deepstrmm_model_tcn365.keras'\n",
    "grdc_netcdf = ''   #provide path to netcdf format of observed streamflow obtained from GRDC\n",
    "val_start_date = ''\n",
    "val_end_date = ''\n",
    "\n",
    "from bakaano.runner import BakaanoHydro\n",
    "bk = BakaanoHydro(\n",
    "    working_dir,\n",
    "    study_area,\n",
    "    val_start_date,\n",
    "    val_end_date\n",
    ")\n",
    "\n",
    "bk.evaluate_streamflow_model(model_path='', grdc_netcdf=grdc_netcdf, prep_nc=prep, tasmax_nc=tasmax, tasmin_nc=tasmin, tmean_nc=tmean,\n",
    "                             loss_fn='mean_squared_logarithmic_error', num_input_branch=3, lookback=365, batch_size=256)"
   ]
  },
  {
   "cell_type": "code",
   "execution_count": null,
   "metadata": {},
   "outputs": [],
   "source": [
    "#####   Simulating streamflow series with Bakaano-Hydro"
   ]
  },
  {
   "cell_type": "code",
   "execution_count": null,
   "metadata": {},
   "outputs": [],
   "source": [
    "model_path = f'{working_dir}/models/deepstrmm_model_tcn365.keras'\n",
    "lat = ''\n",
    "lon = ''\n",
    "\n",
    "from bakaano.runner import BakaanoHydro\n",
    "bk = BakaanoHydro(\n",
    "    working_dir,\n",
    "    study_area,\n",
    "    val_start_date,\n",
    "    val_end_date\n",
    ")\n",
    "\n",
    "latlist = []\n",
    "lonlist =[]\n",
    "bk.simulate_streamflow_batch(model_path='', latlist=latlist, lonlist=lonlist, grdc_netcdf=grdc_netcdf, prep_nc=prep, tasmax_nc=tasmax, tasmin_nc=tasmin, tmean_nc=tmean,\n",
    "                             loss_fn='mean_squared_logarithmic_error', num_input_branch=3, lookback=365)"
   ]
  },
  {
   "cell_type": "markdown",
   "metadata": {},
   "source": []
  }
 ],
 "metadata": {
  "kernelspec": {
   "display_name": "nbs-dashboard",
   "language": "python",
   "name": "python3"
  },
  "language_info": {
   "codemirror_mode": {
    "name": "ipython",
    "version": 3
   },
   "file_extension": ".py",
   "mimetype": "text/x-python",
   "name": "python",
   "nbconvert_exporter": "python",
   "pygments_lexer": "ipython3",
   "version": "3.10.4"
  }
 },
 "nbformat": 4,
 "nbformat_minor": 2
}
