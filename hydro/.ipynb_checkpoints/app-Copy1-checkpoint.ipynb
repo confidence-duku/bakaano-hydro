{
 "cells": [
  {
   "cell_type": "code",
   "execution_count": null,
   "id": "a5178aaf-cc29-4d33-9969-e0ca92894d72",
   "metadata": {},
   "outputs": [],
   "source": [
    "#### Run full exposure preprocessing step"
   ]
  },
  {
   "cell_type": "code",
   "execution_count": null,
   "id": "b6ebc493-cbb9-43c1-a446-74ce8ec82a75",
   "metadata": {},
   "outputs": [],
   "source": [
    "#import panel as pn\n",
    "import datetime as dt\n",
    "#import folium\n",
    "#import leafmap\n",
    "import leafmap.leafmap as leafmap\n",
    "from folium.plugins import Draw\n",
    "from shapely.geometry import shape\n",
    "import panel as pn\n",
    "from panel.theme import Bootstrap, Material, Native\n",
    "#import ipyleaflet\n",
    "import json\n",
    "#from ipyleaflet import Map, GeoJSON, GeoData, basemaps, LayersControl\n",
    "import geopandas as gpd\n",
    "import os\n",
    "from utils import Utils\n",
    "import asyncio"
   ]
  },
  {
   "cell_type": "code",
   "execution_count": null,
   "id": "e8193027-3172-4ec6-95c7-bb57ae91a2de",
   "metadata": {},
   "outputs": [],
   "source": [
    "pn.extension(design='material')"
   ]
  },
  {
   "cell_type": "code",
   "execution_count": null,
   "id": "98d103ae-16fd-450e-b7ac-143dc414c46f",
   "metadata": {},
   "outputs": [],
   "source": [
    "download_button = pn.widgets.Button(name='Download input data', design=Bootstrap,\n",
    "                                      button_type='light', disabled=True, icon='caret-right')\n",
    "preprocess_button = pn.widgets.Button(name='Preprocess data', design=Bootstrap,\n",
    "                                      button_type='light', disabled=True, icon='caret-right')\n",
    "\n",
    "visualize_button = pn.widgets.Button(name='Visualize input data', design=Bootstrap,\n",
    "                                     button_type='light', disabled=True, icon='caret-right')\n",
    "text_input = pn.widgets.TextInput(name='Project name', placeholder='Enter project name...', \n",
    "                                  align='start', width=250)\n",
    "project_radio_group = pn.widgets.RadioBoxGroup(name='Project type',\n",
    "                                               options=['New project', 'Existing project'], inline=True, align = 'start')\n",
    "nbs_radio_group = pn.widgets.RadioBoxGroup(name='Select a nature-based solution', \n",
    "                                           options=['None', 'Forest landscape restoration', 'Protected area conservation', 'Constructed wetlands', 'Riparian buffers', \n",
    "                                                    'Urban greening'], align = 'start', inline=False)"
   ]
  },
  {
   "cell_type": "code",
   "execution_count": null,
   "id": "ec35ad1a-d5da-4f2e-8ef2-f4d7d1f8454f",
   "metadata": {},
   "outputs": [],
   "source": [
    "# Alert pane for status messages\n",
    "status_alert = pn.pane.Alert(\"\"\"\n",
    "<div style=\"color: dark green;\">\n",
    "    <i class=\"fas fa-info-circle\"></i> <strong>NBS Toolbox Infobox</strong>\n",
    "    <hr>\n",
    "    \\n\\nReady to explore and deploy this toolbox for your projects? \\n\\nDynamic messages will be provided in this infobox to guide you through the use of this toolbox and provide status updates of running processes. \\n\\n To begin select a nature-based solution from the provided options.\n",
    "</div>\n",
    "\"\"\", alert_type=\"info\")\n",
    "\n",
    "existing_project_message=\"\"\"\n",
    "<div style=\"color: dark red;\">\n",
    "    <i class=\"fas fa-info-circle\"></i> Project already exists! No need to draw a rectangle on the map around the catchment of interest.\n",
    "</div>\n",
    "\"\"\""
   ]
  },
  {
   "cell_type": "code",
   "execution_count": null,
   "id": "8297e5de-322e-438b-b931-4fa818ee4e17",
   "metadata": {},
   "outputs": [],
   "source": [
    "#m = ipyleaflet.Map(center=[8.126941, -1.228521], zoom=4)\n",
    "#bounds = [[4.349392, -12.615363], [12.399066, 4.377311]]\n",
    "#bounds = [4.349392, -12.615363], [12.399066, 4.377311]]\n",
    "#bm = basemaps.OpenStreetMap\n",
    "m = leafmap.Map(center=[8.126941, -3.228521], zoom=5)\n",
    "#m.zoom_to_bounds(m.user_roi_bounds())\n",
    "m.add_basemap()\n",
    "folium_pane = pn.panel(m)"
   ]
  },
  {
   "cell_type": "code",
   "execution_count": null,
   "id": "af879c61-7f69-47c4-b3ff-ba26a4e52f42",
   "metadata": {},
   "outputs": [],
   "source": [
    "s1 = pn.Spacer(height=5)\n",
    "s2 = pn.Spacer(height=5)\n",
    "s3 = pn.Spacer(height=5)\n",
    "s4 = pn.Spacer(height=5)\n",
    "s5 = pn.Spacer(height=5)"
   ]
  },
  {
   "cell_type": "code",
   "execution_count": null,
   "id": "ec6b2470-9892-4f47-ace9-33cebbefb56d",
   "metadata": {},
   "outputs": [],
   "source": [
    "wc1 = pn.WidgetBox('### Download and preprocess input data',download_button, visualize_button, preprocess_button, horizontal=False, align='start', margin=10, width=300)\n",
    "\n",
    "wc2 = pn.WidgetBox('### Select a nature-based solution', nbs_radio_group, margin=10, width=300)\n",
    "\n",
    "wc3 = pn.WidgetBox('### Provide project information', project_radio_group, s2, text_input, margin=10, width=300)\n",
    "\n",
    "wc4 = pn.WidgetBox('#### Train and evaluate model', download_button, visualize_button,  aspect_ratio='auto', horizontal=False, width=300)"
   ]
  },
  {
   "cell_type": "code",
   "execution_count": null,
   "id": "b8cfcb25-ecad-4285-9f31-f9230d0f702a",
   "metadata": {},
   "outputs": [],
   "source": [
    "forest_restoration_alert = \"\"\"\n",
    "<div style=\"color: dark blue;\">\n",
    "    <i class=\"fas fa-info-circle\"></i> <strong>Watershed forest restoration</strong>\n",
    "    <hr>\n",
    "    \\n\\nThe toolbox provides insights into the effectiveness of watershed forest restoration against fluvial flooding. \\n\\nIt provides information on inundation extent and exceedance probabilities of multiple flood return periods with and without this measure. \\n\\nIt converts all non-forest land cover (with the exception of croplands, water and built-up environment) to forests within a user designated region of interest. \\n\\nIt then uses a trained deep-learning based fully distributed hydrological model to predict river discharge and the HAND model to map inundation extent and depth.\n",
    "</div>\n",
    "\"\"\"\n",
    "wetland_restoration_alert = \"The toolbox provides insights into the effectiveness of wetland restoration against fluvial flooding. It provides information on inundation extent and exceedance probabilities of multiple flood return periods with and without this measure. It is a trained deep-learning based fully distributed hydrological model to predict river discharge and the HAND model to map inundation extent and depth\" "
   ]
  },
  {
   "cell_type": "code",
   "execution_count": null,
   "id": "ff598d3f-daeb-436e-b8e6-92208462fca3",
   "metadata": {},
   "outputs": [],
   "source": [
    "def create_ds(project_name):\n",
    "    os.makedirs(f'./{project_name}/clim', exist_ok=True)\n",
    "    os.makedirs(f'./{project_name}/soil', exist_ok=True)\n",
    "    os.makedirs(f'./{project_name}/elevation', exist_ok=True)\n",
    "    os.makedirs(f'./{project_name}/models', exist_ok=True)\n",
    "    os.makedirs(f'./{project_name}/output_data', exist_ok=True)\n",
    "    os.makedirs(f'./{project_name}/land_cover', exist_ok=True)\n",
    "    os.makedirs(f'./{project_name}/scratch', exist_ok=True)\n",
    "    os.makedirs(f'./{project_name}/shapes', exist_ok=True)"
   ]
  },
  {
   "cell_type": "code",
   "execution_count": null,
   "id": "6dadc5aa-8ed0-47c1-bbd8-de8e968cb888",
   "metadata": {},
   "outputs": [],
   "source": [
    "def check_existing_file(file_path):\n",
    "    directory, filename = os.path.split(file_path)\n",
    "    if os.path.exists(file_path):\n",
    "        return True\n",
    "    else:\n",
    "        return False"
   ]
  },
  {
   "cell_type": "code",
   "execution_count": null,
   "id": "11c9816c-daec-4fa0-b90c-60d4ae409e99",
   "metadata": {},
   "outputs": [],
   "source": [
    "land_cover_alert = \"\"\"\n",
    "<div style=\"color: orange;\">\n",
    "    <i class=\"fas fa-info-circle\"></i> <strong>Downloading land cover data.</strong>\n",
    "    <hr>\n",
    "    Land cover data from the European Space Agency - WorldCover product \n",
    "    (<a href=\"https://esa-worldcover.org/en\" target=\"_blank\">https://esa-worldcover.org/en</a>) \n",
    "    is downloaded into the directory f'projects/{text_input.value}/scratch'.\n",
    "</div>\n",
    "\"\"\"\n",
    " \n",
    "soil_alert = \"\"\"\n",
    "<div style=\"color: orange;\">\n",
    "    <i class=\"fas fa-info-circle\"></i> <strong>Preprocessing hydrologic soil group data.</strong>\n",
    "    <hr>\n",
    "    This data were developed to support USDA-based curve-number runoff modeling at regional and continental scales.\n",
    "    Classification of HSGs was derived from soil texture classes and depth to bedrock provided by the Food and Agriculture Organization soilGrids250m system. \n",
    "    The data is downloaded into the directory f'projects/{text_input.value}/land_cover'.\n",
    "</div>\n",
    "\"\"\""
   ]
  },
  {
   "cell_type": "code",
   "execution_count": null,
   "id": "d0eec9af-1c9b-4806-8156-0035d2bf8a4c",
   "metadata": {},
   "outputs": [],
   "source": [
    "import time\n",
    "async def preprocess_and_download(event):\n",
    "    try:\n",
    "        # status_alert.object = land_cover_alert\n",
    "        # status_alert.alert_type = \"warning\"\n",
    "        # await asyncio.sleep(0.1)  # Yield control to allow UI update\n",
    "        # from land_cover import LandCover\n",
    "        # lc_check = check_existing_file(f'./{text_input.value}/land_cover/lc_mosaic.tif')\n",
    "        # if lc_check == False:\n",
    "        #     ldc = LandCover(text_input.value, m.user_roi_bounds())\n",
    "        #     ldc.download_lc()\n",
    "        #     ldc.mosaic_lc()\n",
    "        # else:\n",
    "        #     status_alert.object = f\"Land cover data = 'lc_mosaic.tif' already exists in the directory '{text_input.value}/land_cover' \"\n",
    "        #     status_alert.alert_type = \"warning\"\n",
    "        #     await asyncio.sleep(0.1) \n",
    "            \n",
    "        # status_alert.object = soil_alert\n",
    "        # status_alert.alert_type = \"warning\"\n",
    "        # await asyncio.sleep(0.1) \n",
    "        # soil_file = f'./{text_input.value}/soil/hsg.tif'\n",
    "        # filetest = check_existing_file(soil_file)\n",
    "        # if filetest is False:\n",
    "        #     uw = Utils(text_input.value, m.user_roi_bounds())\n",
    "        #     hysog = '../common_data/HYSOGs250m.tif'\n",
    "        #     hsg = uw.clip(hysog, out_path=soil_file, save_output=True)\n",
    "        # else:\n",
    "        #     status_alert.object = f\"Hydrologic soil group data = 'hsg.tif' already exists in the directory '{text_input.value}/soil' \"\n",
    "        #     status_alert.alert_type = \"warning\"\n",
    "        #     await asyncio.sleep(0.1) \n",
    "\n",
    "        status_alert.object = \"Downloading elevation data...\"\n",
    "        status_alert.alert_type = \"warning\"\n",
    "        await asyncio.sleep(0.1)  # Yield control to allow UI update\n",
    "\n",
    "        from dem import DEMDownloader\n",
    "        dd = DEMDownloader(\n",
    "            text_input.value,\n",
    "            m.user_roi_bounds(),                 \n",
    "            'conficonfi',                 \n",
    "            '1984@ConfiConfi'\n",
    "         )\n",
    "        dem = dd.download_dem()\n",
    "\n",
    "        status_alert.object = \"Downloading climate data...\"\n",
    "        status_alert.alert_type = \"warning\"\n",
    "        await asyncio.sleep(0.1)  # Yield control to allow UI update\n",
    "        \n",
    "        from climate2 import ChelsaDataDownloader\n",
    "        cd = ChelsaDataDownloader(text_input.value, m.user_roi_bounds())\n",
    "        cd.get_chelsa_clim_data()\n",
    "\n",
    "        status_alert.object = \"Data download completed\"\n",
    "        status_alert.alert_type = \"success\"\n",
    "        await asyncio.sleep(0.1)  # Yield control to allow UI update\n",
    "\n",
    "        visualize_button.disabled = False\n",
    "        await asyncio.sleep(0.1)\n",
    "        #print(f\"Runoff computation result: {result}\")\n",
    "    except Exception as e:\n",
    "        status_alert.object = f\"Error during runoff computation: {str(e)}\"\n",
    "        status_alert.alert_type = \"danger\"\n",
    "        print(f\"Error during runoff computation: {str(e)}\")\n",
    "        return None"
   ]
  },
  {
   "cell_type": "code",
   "execution_count": null,
   "id": "7ceb9de3-df5a-48f9-85c7-55776b90657d",
   "metadata": {},
   "outputs": [],
   "source": [
    "# Function to call the compute_runoff method of the DeepSTRMM object\n",
    "def update_dashboard(event):\n",
    "    project_name = text_input.value\n",
    "    \n",
    "    if project_radio_group.value == 'New project' and nbs_radio_group.value != 'None':\n",
    "        if not project_name:\n",
    "            status_alert.object = 'Enter valid project name'\n",
    "            status_alert.alert_type = 'warning'\n",
    "            return\n",
    "        \n",
    "        if os.path.exists(f'./{project_name}'):\n",
    "            status_alert.object = \"Project already exists, select 'Existing project' option or enter new name\"\n",
    "            status_alert.alert_type = 'warning'\n",
    "            nbs_status_alert()\n",
    "\n",
    "        else:\n",
    "            create_ds(project_name)\n",
    "            status_alert.object = 'Draw polygon'\n",
    "            status_alert.alert_type = 'warning'\n",
    "            nbs_status_alert()\n",
    "\n",
    "    elif project_radio_group.value == 'Existing project' and nbs_radio_group.value != 'None':\n",
    "        if not project_name:\n",
    "            status_alert.object = 'Enter existing project name'\n",
    "            status_alert.alert_type = 'warning'\n",
    "            return\n",
    "        if os.path.exists(f'./{project_name}'):\n",
    "            status_alert.object = 'Existing project, no need to draw polygon.'\n",
    "            status_alert.alert_type = 'success'\n",
    "            # Hide polygon drawing and enable buttons\n",
    "\n",
    "        else:\n",
    "            status_alert.object = 'Project does not exist. Select new project or give existing name'\n",
    "            status_alert.alert_type = 'warning'\n",
    "    else:\n",
    "        status_alert.object = 'Select an NBS option'\n",
    "        status_alert.alert_type = 'warning'"
   ]
  },
  {
   "cell_type": "code",
   "execution_count": null,
   "id": "4254fc11-bfd0-4724-a5d5-309ac03a5bef",
   "metadata": {},
   "outputs": [],
   "source": [
    "def update_download_buttons(event):\n",
    "    if project_radio_group.value == 'New project' and text_input.value.strip() and nbs_radio_group.value != 'None':\n",
    "        download_button.disabled = False\n",
    "        visualize_button.disabled = True\n",
    "        preprocess_button.disabled = True\n",
    "        download_button.button_type = 'primary'\n",
    "        visualize_button.button_type = 'light'\n",
    "        preprocess_button.button_type = 'light'\n",
    "        \n",
    "    elif project_radio_group.value == 'Existing project' and text_input.value.strip() and nbs_radio_group.value != 'None':\n",
    "        download_button.disabled = True\n",
    "        visualize_button.disabled = False\n",
    "        download_button.button_type = 'light'\n",
    "        visualize_button.button_type = 'primary'"
   ]
  },
  {
   "cell_type": "code",
   "execution_count": null,
   "id": "f8d79241-eb51-4358-99a9-fadee861e5f8",
   "metadata": {},
   "outputs": [],
   "source": [
    "def nbs_status_alert():\n",
    "    if nbs_radio_group.value == 'Forest landscape restoration':\n",
    "        status_alert.object = forest_restoration_alert\n",
    "        status_alert.alert_type = \"info\"\n",
    "    elif nbs_radio_group.value == 'Wetland restoration':\n",
    "        status_alert.object = wetland_restoration_alert\n",
    "        status_alert.alert_type = \"info\"\n",
    "    elif nbs_radio_group.value == 'None':\n",
    "        status_alert.object = 'Select an NBS option'\n",
    "        status_alert.alert_type = 'warning'"
   ]
  },
  {
   "cell_type": "code",
   "execution_count": null,
   "id": "15829cf2-6406-4125-9f42-a555e9d0a6fb",
   "metadata": {},
   "outputs": [],
   "source": [
    "# Set callbacks\n",
    "download_button.on_click(preprocess_and_download)\n",
    "nbs_radio_group.param.watch(update_dashboard, 'value')\n",
    "project_radio_group.param.watch(update_dashboard, 'value')\n",
    "text_input.param.watch(update_dashboard, 'value')\n",
    "text_input.param.watch(update_download_buttons, 'value')\n",
    "nbs_radio_group.param.watch(update_download_buttons, 'value')\n",
    "project_radio_group.param.watch(update_download_buttons, 'value')"
   ]
  },
  {
   "cell_type": "code",
   "execution_count": null,
   "id": "bd1782fa-fdb4-4857-acde-aedb76efd9ea",
   "metadata": {},
   "outputs": [],
   "source": [
    "banner_image_url = \"https://wherethereisnoengineer.org/wp-content/uploads/2021/01/NBS-image.jpg\"\n",
    "#banner_image = pn.pane.Image(banner_image_url, width=800)\n",
    "#header_content = pn.Column(banner_image, intro_text)\n",
    "main_page = pn.Column(folium_pane)\n",
    "template = pn.template.FastListTemplate(\n",
    "    title='The Nature-Based Adaptation Planning Toolbox',\n",
    "    accent=\"#76933C\",\n",
    "    sidebar=[s1, status_alert,wc2, wc3, wc1],\n",
    "    main=[main_page],\n",
    "    theme='default',\n",
    "    collapsed_sidebar=False,\n",
    "    modal=['Hello World']\n",
    ")\n",
    "# Serve the template"
   ]
  },
  {
   "cell_type": "raw",
   "id": "e9567b29-cee6-4a33-8c16-5db6ae98bc49",
   "metadata": {},
   "source": [
    "def update_template_main(event):\n",
    "    new_map = leafmap.Map(center=[40.7128, -74.0060], zoom_start=12)\n",
    "    new_map.add_raster('levi/scratch/ESA_WorldCover_10m_2021_v200_N09E000_Map.tif')\n",
    "    new_folium_pane = pn.panel(new_map)\n",
    "    #mm.clear()\n",
    "    mm.append(new_folium_pane)"
   ]
  },
  {
   "cell_type": "code",
   "execution_count": null,
   "id": "dbfa37ca-d6b9-4531-b9a1-232b19675628",
   "metadata": {},
   "outputs": [],
   "source": [
    "def update_template_main(event):\n",
    "    m.add_raster(f'./{text_input.value}/land_cover/lc_mosaic.tif', layer_name='land cover')\n",
    "    m.add_raster(f'./{text_input.value}/soil/hsg.tif', layer_name='soil')\n",
    "    #m.add_raster(f'./{text_input.value}/elevation/SRTMGL1_NC.003*.tif', layer_name='elevation')\n",
    "    m.add_layer_control()"
   ]
  },
  {
   "cell_type": "code",
   "execution_count": null,
   "id": "a77c6a61-87ab-4e2f-8f9a-f247f28532c4",
   "metadata": {},
   "outputs": [],
   "source": [
    "visualize_button.on_click(update_template_main)"
   ]
  },
  {
   "cell_type": "code",
   "execution_count": null,
   "id": "718708b5-ac58-49c8-9239-3b71f8ad4a2f",
   "metadata": {},
   "outputs": [],
   "source": [
    "template.servable()"
   ]
  },
  {
   "cell_type": "raw",
   "id": "ea2abb62-dac2-4ab2-9532-08410938e648",
   "metadata": {},
   "source": [
    "pn.serve(template)"
   ]
  },
  {
   "cell_type": "code",
   "execution_count": null,
   "id": "4d6a7dc1-3816-4b7b-8cf2-1384b00ad312",
   "metadata": {},
   "outputs": [],
   "source": []
  },
  {
   "cell_type": "code",
   "execution_count": null,
   "id": "50c1e2e9-1d8b-47c1-9978-3544efbcb912",
   "metadata": {},
   "outputs": [],
   "source": []
  },
  {
   "cell_type": "code",
   "execution_count": null,
   "id": "d8c9e20b-1b1b-4d4c-afeb-bdde1232616e",
   "metadata": {},
   "outputs": [],
   "source": []
  },
  {
   "cell_type": "code",
   "execution_count": null,
   "id": "c3aa6e3a-e078-4483-b836-28f4a34ab845",
   "metadata": {},
   "outputs": [],
   "source": []
  }
 ],
 "metadata": {
  "kernelspec": {
   "display_name": "Python 3 (ipykernel)",
   "language": "python",
   "name": "python3"
  },
  "language_info": {
   "codemirror_mode": {
    "name": "ipython",
    "version": 3
   },
   "file_extension": ".py",
   "mimetype": "text/x-python",
   "name": "python",
   "nbconvert_exporter": "python",
   "pygments_lexer": "ipython3",
   "version": "3.10.14"
  }
 },
 "nbformat": 4,
 "nbformat_minor": 5
}
